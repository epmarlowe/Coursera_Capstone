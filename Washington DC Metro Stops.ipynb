{
 "cells": [
  {
   "cell_type": "markdown",
   "metadata": {
    "collapsed": true
   },
   "source": [
    "# Coursera Capstone Assignment"
   ]
  },
  {
   "cell_type": "markdown",
   "metadata": {},
   "source": [
    "## Washington D.C. Metro Stops Issue"
   ]
  },
  {
   "cell_type": "markdown",
   "metadata": {},
   "source": [
    "### Introduction:"
   ]
  },
  {
   "cell_type": "markdown",
   "metadata": {},
   "source": [
    "Washington D.C. is a very large metropolitan area with some of the worst traffic on the Eastern Seaboard of the United States. The issues surrounding traffic in the Washington Metropolitan Area (or WMA) are complex. Washington continues to grow, as it is the nation's capital, and is increasingly popular for non-governmental businesses. The issues surrounding traffic are: construction, lack of public transport, and population growth (among others). In this final assignment, I am going to be looking at the WMA and attempting to location sutiable locations for additional Metro stops. The addition of new and improved public transport options for commuters heading into Washington will assist with the traffic issues. "
   ]
  },
  {
   "cell_type": "markdown",
   "metadata": {},
   "source": [
    "The business problems associated with this are the increase of profit and the decrease of overhead. The longer that people (employees) are stuck in traffic, the less time they have to complete their work. As such, a smooth and efficient commute (not to mention stress-free!) would seriously benefit companies and employees. The Texas Travel Institue states that commuting via cars etc costs the average person 52 wasted hours a year. In addition, the costs associated with owning a car are becoming exceedingly high, as the United States has focused on commuting via car (often called solo-commuting) as opposed to alternative methods (carpool, public transport, etc.)\n",
    "\n",
    "Link for further information: https://meetingoftheminds.org/improving-journey-work-benefits-commuters-communities-companies-18344"
   ]
  },
  {
   "cell_type": "markdown",
   "metadata": {},
   "source": [
    "### Data:"
   ]
  },
  {
   "cell_type": "markdown",
   "metadata": {},
   "source": [
    "The data that I will be using for this project consists of Foursquare data for the WMA as well as statistics, excel tables, and other data from the United States Department of Transportation (USDOT). USDOT has a section, the Bureau of Transportation Statistics (https://www.bts.gov/content/commuting-work), that provides valuable data across the country for the various methods of commuting. However, one issue associated with this data is that it is not sectioned off by metropolitan center--by that I mean there is no specific data for those commuting to Washington, New York City, Los Angeles, etc. Instead, the data is by state. This poses an issue because someone commuting in rural Virginia will have a shorter commute than someone commuting from Northern Virginia into Washington--thereby throwing off the average time etc. USDOT also provides very useful maps, and geospatial portals for their data to be manipulated. In addition, they have maps demonstrating where the metropolitan centers are, and the heavy use of the highways in that area: https://www.bts.gov/content/annual-average-daily-traffic-national-highway-system-2012"
   ]
  },
  {
   "cell_type": "markdown",
   "metadata": {},
   "source": [
    "Other sources of data that I will be using include the Census website (https://factfinder.census.gov/faces/tableservices/jsf/pages/productview.xhtml?src=bkmk) and https://datausa.io/profile/geo/washington-dc/ in order to determine where the most people are coming from, which will then assist in where the new metro stops should go."
   ]
  },
  {
   "cell_type": "code",
   "execution_count": null,
   "metadata": {},
   "outputs": [],
   "source": []
  }
 ],
 "metadata": {
  "kernelspec": {
   "display_name": "Python 3.5",
   "language": "python",
   "name": "python3"
  },
  "language_info": {
   "codemirror_mode": {
    "name": "ipython",
    "version": 3
   },
   "file_extension": ".py",
   "mimetype": "text/x-python",
   "name": "python",
   "nbconvert_exporter": "python",
   "pygments_lexer": "ipython3",
   "version": "3.5.5"
  }
 },
 "nbformat": 4,
 "nbformat_minor": 1
}
